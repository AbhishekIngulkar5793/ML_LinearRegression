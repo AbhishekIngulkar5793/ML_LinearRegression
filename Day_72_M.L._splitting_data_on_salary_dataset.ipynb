{
 "cells": [
  {
   "cell_type": "markdown",
   "id": "f474052c",
   "metadata": {},
   "source": [
    "# Different cases with Datasets"
   ]
  },
  {
   "cell_type": "raw",
   "id": "b700e34b",
   "metadata": {},
   "source": [
    "- single file (salary.csv,employee.json,sample.data)\n",
    "Approach: Divide a data into(Splitting strategy)\n",
    "    training Samples           testing sample\n",
    "    input + output              input + output"
   ]
  },
  {
   "cell_type": "raw",
   "id": "94113167",
   "metadata": {},
   "source": [
    "- 2 separate files\n",
    "  train.csv                    test.csv\n",
    "input + output              input + output (actual)\n",
    "                            predict(test_input)==> predicted result\n"
   ]
  },
  {
   "cell_type": "markdown",
   "id": "584b1820",
   "metadata": {},
   "source": [
    "# Splitting Stratergy"
   ]
  },
  {
   "cell_type": "code",
   "execution_count": 1,
   "id": "42e68e21",
   "metadata": {},
   "outputs": [],
   "source": [
    "#Criterias: \n",
    "# 80(Training)-20(Tetsting)\n",
    "# 70(Training)-30(Testing)"
   ]
  },
  {
   "cell_type": "code",
   "execution_count": 2,
   "id": "97418cf7",
   "metadata": {},
   "outputs": [
    {
     "data": {
      "text/html": [
       "<div>\n",
       "<style scoped>\n",
       "    .dataframe tbody tr th:only-of-type {\n",
       "        vertical-align: middle;\n",
       "    }\n",
       "\n",
       "    .dataframe tbody tr th {\n",
       "        vertical-align: top;\n",
       "    }\n",
       "\n",
       "    .dataframe thead th {\n",
       "        text-align: right;\n",
       "    }\n",
       "</style>\n",
       "<table border=\"1\" class=\"dataframe\">\n",
       "  <thead>\n",
       "    <tr style=\"text-align: right;\">\n",
       "      <th></th>\n",
       "      <th>YearsExperience</th>\n",
       "      <th>Salary</th>\n",
       "    </tr>\n",
       "  </thead>\n",
       "  <tbody>\n",
       "    <tr>\n",
       "      <th>0</th>\n",
       "      <td>1.1</td>\n",
       "      <td>39343.0</td>\n",
       "    </tr>\n",
       "    <tr>\n",
       "      <th>1</th>\n",
       "      <td>1.3</td>\n",
       "      <td>46205.0</td>\n",
       "    </tr>\n",
       "  </tbody>\n",
       "</table>\n",
       "</div>"
      ],
      "text/plain": [
       "   YearsExperience   Salary\n",
       "0              1.1  39343.0\n",
       "1              1.3  46205.0"
      ]
     },
     "execution_count": 2,
     "metadata": {},
     "output_type": "execute_result"
    }
   ],
   "source": [
    "#load the dataset\n",
    "import pandas as pd\n",
    "df = pd.read_csv('Salary_Data.csv')\n",
    "df.head(2)"
   ]
  },
  {
   "cell_type": "code",
   "execution_count": 3,
   "id": "aee72b29",
   "metadata": {},
   "outputs": [
    {
     "data": {
      "text/html": [
       "<div>\n",
       "<style scoped>\n",
       "    .dataframe tbody tr th:only-of-type {\n",
       "        vertical-align: middle;\n",
       "    }\n",
       "\n",
       "    .dataframe tbody tr th {\n",
       "        vertical-align: top;\n",
       "    }\n",
       "\n",
       "    .dataframe thead th {\n",
       "        text-align: right;\n",
       "    }\n",
       "</style>\n",
       "<table border=\"1\" class=\"dataframe\">\n",
       "  <thead>\n",
       "    <tr style=\"text-align: right;\">\n",
       "      <th></th>\n",
       "      <th>YearsExperience</th>\n",
       "    </tr>\n",
       "  </thead>\n",
       "  <tbody>\n",
       "    <tr>\n",
       "      <th>0</th>\n",
       "      <td>1.1</td>\n",
       "    </tr>\n",
       "    <tr>\n",
       "      <th>1</th>\n",
       "      <td>1.3</td>\n",
       "    </tr>\n",
       "  </tbody>\n",
       "</table>\n",
       "</div>"
      ],
      "text/plain": [
       "   YearsExperience\n",
       "0              1.1\n",
       "1              1.3"
      ]
     },
     "execution_count": 3,
     "metadata": {},
     "output_type": "execute_result"
    }
   ],
   "source": [
    "#Separate input and output\n",
    "X = df[['YearsExperience']]\n",
    "X[:2]"
   ]
  },
  {
   "cell_type": "code",
   "execution_count": 4,
   "id": "d08977d5",
   "metadata": {},
   "outputs": [
    {
     "data": {
      "text/plain": [
       "0    39343.0\n",
       "1    46205.0\n",
       "2    37731.0\n",
       "Name: Salary, dtype: float64"
      ]
     },
     "execution_count": 4,
     "metadata": {},
     "output_type": "execute_result"
    }
   ],
   "source": [
    "y = df.Salary\n",
    "y[:3]"
   ]
  },
  {
   "cell_type": "code",
   "execution_count": 6,
   "id": "05a67e1d",
   "metadata": {},
   "outputs": [],
   "source": [
    "# now, lets split the above data(X,y) into training and testing output resp. using train_test_split method from sklearn.\n",
    "from sklearn.model_selection import train_test_split"
   ]
  },
  {
   "cell_type": "raw",
   "id": "00520638",
   "metadata": {},
   "source": [
    " inp     out\n",
    "         X        y\n",
    "         \n",
    "train_data                  test_data\n",
    "train_inp,train_output      test_inp,test_output"
   ]
  },
  {
   "cell_type": "code",
   "execution_count": 7,
   "id": "fe6e509a",
   "metadata": {},
   "outputs": [
    {
     "data": {
      "text/plain": [
       "(30, 2)"
      ]
     },
     "execution_count": 7,
     "metadata": {},
     "output_type": "execute_result"
    }
   ],
   "source": [
    "# check the shape of our original dataframe\n",
    "df.shape"
   ]
  },
  {
   "cell_type": "code",
   "execution_count": 10,
   "id": "1262b93a",
   "metadata": {},
   "outputs": [
    {
     "data": {
      "text/plain": [
       "24.0"
      ]
     },
     "execution_count": 10,
     "metadata": {},
     "output_type": "execute_result"
    }
   ],
   "source": [
    "#suppose will use 80-20 strategy\n",
    "#80% for training and 20% for testing the values ie no of rows\n",
    "#for 80%\n",
    "30*.8"
   ]
  },
  {
   "cell_type": "code",
   "execution_count": 12,
   "id": "d725dd31",
   "metadata": {},
   "outputs": [
    {
     "data": {
      "text/plain": [
       "6.0"
      ]
     },
     "execution_count": 12,
     "metadata": {},
     "output_type": "execute_result"
    }
   ],
   "source": [
    "#for 20%\n",
    "30*.2"
   ]
  },
  {
   "cell_type": "code",
   "execution_count": 13,
   "id": "60d62dd1",
   "metadata": {},
   "outputs": [],
   "source": [
    "#Split arrays or matrices into random train and test subsets\n",
    "#80-20\n",
    "X_train, X_test, y_train, y_test = train_test_split(X,y,test_size=.2,train_size=.8)"
   ]
  },
  {
   "cell_type": "markdown",
   "id": "56fabc31",
   "metadata": {},
   "source": [
    "## for Training Data"
   ]
  },
  {
   "cell_type": "code",
   "execution_count": 17,
   "id": "9bdf8528",
   "metadata": {},
   "outputs": [
    {
     "data": {
      "text/plain": [
       "24"
      ]
     },
     "execution_count": 17,
     "metadata": {},
     "output_type": "execute_result"
    }
   ],
   "source": [
    "len(X_train)"
   ]
  },
  {
   "cell_type": "code",
   "execution_count": 18,
   "id": "89c4fdce",
   "metadata": {},
   "outputs": [
    {
     "data": {
      "text/plain": [
       "24"
      ]
     },
     "execution_count": 18,
     "metadata": {},
     "output_type": "execute_result"
    }
   ],
   "source": [
    "len(y_train)"
   ]
  },
  {
   "cell_type": "markdown",
   "id": "87a2c55f",
   "metadata": {},
   "source": [
    "## for Testing Data"
   ]
  },
  {
   "cell_type": "code",
   "execution_count": 19,
   "id": "19e26cfd",
   "metadata": {},
   "outputs": [
    {
     "data": {
      "text/plain": [
       "6"
      ]
     },
     "execution_count": 19,
     "metadata": {},
     "output_type": "execute_result"
    }
   ],
   "source": [
    "len(X_test)"
   ]
  },
  {
   "cell_type": "code",
   "execution_count": 20,
   "id": "bea3d62f",
   "metadata": {},
   "outputs": [
    {
     "data": {
      "text/plain": [
       "6"
      ]
     },
     "execution_count": 20,
     "metadata": {},
     "output_type": "execute_result"
    }
   ],
   "source": [
    "len(y_test)"
   ]
  },
  {
   "cell_type": "code",
   "execution_count": 22,
   "id": "f04f1e29",
   "metadata": {},
   "outputs": [],
   "source": [
    "#We will use X_train,y_train for training===> fit()\n",
    "#X_test will use for testing ==> predict()\n",
    "#predict() will give u predicted result which is y_pred\n",
    "#then we can compare predictd with actual output which is y_test"
   ]
  },
  {
   "cell_type": "markdown",
   "id": "e5fc8ed8",
   "metadata": {},
   "source": [
    "## Training Phase"
   ]
  },
  {
   "cell_type": "code",
   "execution_count": 23,
   "id": "46c4e443",
   "metadata": {},
   "outputs": [],
   "source": [
    "from sklearn.linear_model import LinearRegression"
   ]
  },
  {
   "cell_type": "code",
   "execution_count": 24,
   "id": "4629371b",
   "metadata": {},
   "outputs": [
    {
     "data": {
      "text/plain": [
       "LinearRegression()"
      ]
     },
     "execution_count": 24,
     "metadata": {},
     "output_type": "execute_result"
    }
   ],
   "source": [
    "model = LinearRegression()\n",
    "model"
   ]
  },
  {
   "cell_type": "code",
   "execution_count": 25,
   "id": "0dadd231",
   "metadata": {},
   "outputs": [
    {
     "data": {
      "text/plain": [
       "LinearRegression()"
      ]
     },
     "execution_count": 25,
     "metadata": {},
     "output_type": "execute_result"
    }
   ],
   "source": [
    "model.fit(X_train,y_train)"
   ]
  },
  {
   "cell_type": "markdown",
   "id": "bfd2424a",
   "metadata": {},
   "source": [
    "## Testing Phase"
   ]
  },
  {
   "cell_type": "code",
   "execution_count": 26,
   "id": "b727ba9a",
   "metadata": {},
   "outputs": [
    {
     "data": {
      "text/plain": [
       "array([39689.63569634, 82160.07621496, 68003.26270875, 52902.66163547,\n",
       "       53846.44920255, 60452.96217211])"
      ]
     },
     "execution_count": 26,
     "metadata": {},
     "output_type": "execute_result"
    }
   ],
   "source": [
    "model.predict(X_test)"
   ]
  },
  {
   "cell_type": "code",
   "execution_count": 27,
   "id": "2fde2361",
   "metadata": {},
   "outputs": [
    {
     "data": {
      "text/plain": [
       "array([39689.63569634, 82160.07621496, 68003.26270875, 52902.66163547,\n",
       "       53846.44920255, 60452.96217211])"
      ]
     },
     "execution_count": 27,
     "metadata": {},
     "output_type": "execute_result"
    }
   ],
   "source": [
    "# above output is predicted y result\n",
    "y_pred = model.predict(X_test)\n",
    "y_pred"
   ]
  },
  {
   "cell_type": "code",
   "execution_count": 28,
   "id": "b7662c29",
   "metadata": {},
   "outputs": [
    {
     "data": {
      "text/html": [
       "<div>\n",
       "<style scoped>\n",
       "    .dataframe tbody tr th:only-of-type {\n",
       "        vertical-align: middle;\n",
       "    }\n",
       "\n",
       "    .dataframe tbody tr th {\n",
       "        vertical-align: top;\n",
       "    }\n",
       "\n",
       "    .dataframe thead th {\n",
       "        text-align: right;\n",
       "    }\n",
       "</style>\n",
       "<table border=\"1\" class=\"dataframe\">\n",
       "  <thead>\n",
       "    <tr style=\"text-align: right;\">\n",
       "      <th></th>\n",
       "      <th>YearsExperience</th>\n",
       "    </tr>\n",
       "  </thead>\n",
       "  <tbody>\n",
       "    <tr>\n",
       "      <th>2</th>\n",
       "      <td>1.5</td>\n",
       "    </tr>\n",
       "    <tr>\n",
       "      <th>19</th>\n",
       "      <td>6.0</td>\n",
       "    </tr>\n",
       "  </tbody>\n",
       "</table>\n",
       "</div>"
      ],
      "text/plain": [
       "    YearsExperience\n",
       "2               1.5\n",
       "19              6.0"
      ]
     },
     "execution_count": 28,
     "metadata": {},
     "output_type": "execute_result"
    }
   ],
   "source": [
    "X_test[:2] #testing output"
   ]
  },
  {
   "cell_type": "code",
   "execution_count": 30,
   "id": "1b34d789",
   "metadata": {},
   "outputs": [],
   "source": [
    "#Now, add acutal output +predicted output columns in our dataset\n",
    "#first create column for actual output as 'Actual' and assign it to our testing output ie. y_test\n",
    "X_test['Actual'] = y_test"
   ]
  },
  {
   "cell_type": "code",
   "execution_count": 31,
   "id": "988248e2",
   "metadata": {},
   "outputs": [
    {
     "data": {
      "text/html": [
       "<div>\n",
       "<style scoped>\n",
       "    .dataframe tbody tr th:only-of-type {\n",
       "        vertical-align: middle;\n",
       "    }\n",
       "\n",
       "    .dataframe tbody tr th {\n",
       "        vertical-align: top;\n",
       "    }\n",
       "\n",
       "    .dataframe thead th {\n",
       "        text-align: right;\n",
       "    }\n",
       "</style>\n",
       "<table border=\"1\" class=\"dataframe\">\n",
       "  <thead>\n",
       "    <tr style=\"text-align: right;\">\n",
       "      <th></th>\n",
       "      <th>YearsExperience</th>\n",
       "      <th>Actual</th>\n",
       "    </tr>\n",
       "  </thead>\n",
       "  <tbody>\n",
       "    <tr>\n",
       "      <th>2</th>\n",
       "      <td>1.5</td>\n",
       "      <td>37731.0</td>\n",
       "    </tr>\n",
       "    <tr>\n",
       "      <th>19</th>\n",
       "      <td>6.0</td>\n",
       "      <td>93940.0</td>\n",
       "    </tr>\n",
       "    <tr>\n",
       "      <th>14</th>\n",
       "      <td>4.5</td>\n",
       "      <td>61111.0</td>\n",
       "    </tr>\n",
       "    <tr>\n",
       "      <th>5</th>\n",
       "      <td>2.9</td>\n",
       "      <td>56642.0</td>\n",
       "    </tr>\n",
       "    <tr>\n",
       "      <th>6</th>\n",
       "      <td>3.0</td>\n",
       "      <td>60150.0</td>\n",
       "    </tr>\n",
       "    <tr>\n",
       "      <th>9</th>\n",
       "      <td>3.7</td>\n",
       "      <td>57189.0</td>\n",
       "    </tr>\n",
       "  </tbody>\n",
       "</table>\n",
       "</div>"
      ],
      "text/plain": [
       "    YearsExperience   Actual\n",
       "2               1.5  37731.0\n",
       "19              6.0  93940.0\n",
       "14              4.5  61111.0\n",
       "5               2.9  56642.0\n",
       "6               3.0  60150.0\n",
       "9               3.7  57189.0"
      ]
     },
     "execution_count": 31,
     "metadata": {},
     "output_type": "execute_result"
    }
   ],
   "source": [
    "X_test"
   ]
  },
  {
   "cell_type": "code",
   "execution_count": 32,
   "id": "5f18e98f",
   "metadata": {},
   "outputs": [],
   "source": [
    "#Now, create a new column for predicted result as 'predicted' and assign it to the predicted output ie. y_pred\n",
    "X_test['predicted'] = y_pred"
   ]
  },
  {
   "cell_type": "code",
   "execution_count": 33,
   "id": "63170b32",
   "metadata": {},
   "outputs": [
    {
     "data": {
      "text/html": [
       "<div>\n",
       "<style scoped>\n",
       "    .dataframe tbody tr th:only-of-type {\n",
       "        vertical-align: middle;\n",
       "    }\n",
       "\n",
       "    .dataframe tbody tr th {\n",
       "        vertical-align: top;\n",
       "    }\n",
       "\n",
       "    .dataframe thead th {\n",
       "        text-align: right;\n",
       "    }\n",
       "</style>\n",
       "<table border=\"1\" class=\"dataframe\">\n",
       "  <thead>\n",
       "    <tr style=\"text-align: right;\">\n",
       "      <th></th>\n",
       "      <th>YearsExperience</th>\n",
       "      <th>Actual</th>\n",
       "      <th>predicted</th>\n",
       "    </tr>\n",
       "  </thead>\n",
       "  <tbody>\n",
       "    <tr>\n",
       "      <th>2</th>\n",
       "      <td>1.5</td>\n",
       "      <td>37731.0</td>\n",
       "      <td>39689.635696</td>\n",
       "    </tr>\n",
       "    <tr>\n",
       "      <th>19</th>\n",
       "      <td>6.0</td>\n",
       "      <td>93940.0</td>\n",
       "      <td>82160.076215</td>\n",
       "    </tr>\n",
       "    <tr>\n",
       "      <th>14</th>\n",
       "      <td>4.5</td>\n",
       "      <td>61111.0</td>\n",
       "      <td>68003.262709</td>\n",
       "    </tr>\n",
       "    <tr>\n",
       "      <th>5</th>\n",
       "      <td>2.9</td>\n",
       "      <td>56642.0</td>\n",
       "      <td>52902.661635</td>\n",
       "    </tr>\n",
       "    <tr>\n",
       "      <th>6</th>\n",
       "      <td>3.0</td>\n",
       "      <td>60150.0</td>\n",
       "      <td>53846.449203</td>\n",
       "    </tr>\n",
       "    <tr>\n",
       "      <th>9</th>\n",
       "      <td>3.7</td>\n",
       "      <td>57189.0</td>\n",
       "      <td>60452.962172</td>\n",
       "    </tr>\n",
       "  </tbody>\n",
       "</table>\n",
       "</div>"
      ],
      "text/plain": [
       "    YearsExperience   Actual     predicted\n",
       "2               1.5  37731.0  39689.635696\n",
       "19              6.0  93940.0  82160.076215\n",
       "14              4.5  61111.0  68003.262709\n",
       "5               2.9  56642.0  52902.661635\n",
       "6               3.0  60150.0  53846.449203\n",
       "9               3.7  57189.0  60452.962172"
      ]
     },
     "execution_count": 33,
     "metadata": {},
     "output_type": "execute_result"
    }
   ],
   "source": [
    "X_test"
   ]
  },
  {
   "cell_type": "code",
   "execution_count": 34,
   "id": "720e197a",
   "metadata": {},
   "outputs": [
    {
     "data": {
      "text/plain": [
       "2     -1958.635696\n",
       "19    11779.923785\n",
       "14    -6892.262709\n",
       "5      3739.338365\n",
       "6      6303.550797\n",
       "9     -3263.962172\n",
       "dtype: float64"
      ]
     },
     "execution_count": 34,
     "metadata": {},
     "output_type": "execute_result"
    }
   ],
   "source": [
    "#Now, lets Calculate the error\n",
    "# actual - predicted\n",
    "error = X_test.Actual - X_test.predicted\n",
    "error"
   ]
  },
  {
   "cell_type": "code",
   "execution_count": 35,
   "id": "19278639",
   "metadata": {},
   "outputs": [],
   "source": [
    "#add above error also in our dataframe\n",
    "X_test['error'] = error"
   ]
  },
  {
   "cell_type": "code",
   "execution_count": 36,
   "id": "923e3290",
   "metadata": {},
   "outputs": [
    {
     "data": {
      "text/html": [
       "<div>\n",
       "<style scoped>\n",
       "    .dataframe tbody tr th:only-of-type {\n",
       "        vertical-align: middle;\n",
       "    }\n",
       "\n",
       "    .dataframe tbody tr th {\n",
       "        vertical-align: top;\n",
       "    }\n",
       "\n",
       "    .dataframe thead th {\n",
       "        text-align: right;\n",
       "    }\n",
       "</style>\n",
       "<table border=\"1\" class=\"dataframe\">\n",
       "  <thead>\n",
       "    <tr style=\"text-align: right;\">\n",
       "      <th></th>\n",
       "      <th>YearsExperience</th>\n",
       "      <th>Actual</th>\n",
       "      <th>predicted</th>\n",
       "      <th>error</th>\n",
       "    </tr>\n",
       "  </thead>\n",
       "  <tbody>\n",
       "    <tr>\n",
       "      <th>2</th>\n",
       "      <td>1.5</td>\n",
       "      <td>37731.0</td>\n",
       "      <td>39689.635696</td>\n",
       "      <td>-1958.635696</td>\n",
       "    </tr>\n",
       "    <tr>\n",
       "      <th>19</th>\n",
       "      <td>6.0</td>\n",
       "      <td>93940.0</td>\n",
       "      <td>82160.076215</td>\n",
       "      <td>11779.923785</td>\n",
       "    </tr>\n",
       "    <tr>\n",
       "      <th>14</th>\n",
       "      <td>4.5</td>\n",
       "      <td>61111.0</td>\n",
       "      <td>68003.262709</td>\n",
       "      <td>-6892.262709</td>\n",
       "    </tr>\n",
       "    <tr>\n",
       "      <th>5</th>\n",
       "      <td>2.9</td>\n",
       "      <td>56642.0</td>\n",
       "      <td>52902.661635</td>\n",
       "      <td>3739.338365</td>\n",
       "    </tr>\n",
       "    <tr>\n",
       "      <th>6</th>\n",
       "      <td>3.0</td>\n",
       "      <td>60150.0</td>\n",
       "      <td>53846.449203</td>\n",
       "      <td>6303.550797</td>\n",
       "    </tr>\n",
       "    <tr>\n",
       "      <th>9</th>\n",
       "      <td>3.7</td>\n",
       "      <td>57189.0</td>\n",
       "      <td>60452.962172</td>\n",
       "      <td>-3263.962172</td>\n",
       "    </tr>\n",
       "  </tbody>\n",
       "</table>\n",
       "</div>"
      ],
      "text/plain": [
       "    YearsExperience   Actual     predicted         error\n",
       "2               1.5  37731.0  39689.635696  -1958.635696\n",
       "19              6.0  93940.0  82160.076215  11779.923785\n",
       "14              4.5  61111.0  68003.262709  -6892.262709\n",
       "5               2.9  56642.0  52902.661635   3739.338365\n",
       "6               3.0  60150.0  53846.449203   6303.550797\n",
       "9               3.7  57189.0  60452.962172  -3263.962172"
      ]
     },
     "execution_count": 36,
     "metadata": {},
     "output_type": "execute_result"
    }
   ],
   "source": [
    "X_test"
   ]
  },
  {
   "cell_type": "code",
   "execution_count": 38,
   "id": "5e746d05",
   "metadata": {},
   "outputs": [
    {
     "data": {
      "text/plain": [
       "Text(0.5, 1.0, 'Test data ploting act vs predicted')"
      ]
     },
     "execution_count": 38,
     "metadata": {},
     "output_type": "execute_result"
    },
    {
     "data": {
      "image/png": "[encoded data removed]",
      "text/plain": [
       "<Figure size 640x480 with 1 Axes>"
      ]
     },
     "metadata": {},
     "output_type": "display_data"
    }
   ],
   "source": [
    "#Now, plot above test data\n",
    "import matplotlib.pyplot as plt\n",
    "plt.scatter(X_test.YearsExperience,X_test.Actual)\n",
    "plt.plot(X_test.YearsExperience,X_test.predicted,'--r')\n",
    "plt.title('Test data ploting act vs predicted')"
   ]
  },
  {
   "cell_type": "code",
   "execution_count": 39,
   "id": "08ae8d70",
   "metadata": {},
   "outputs": [
    {
     "data": {
      "image/png": "[encoded data removed]",
      "text/plain": [
       "<Figure size 640x480 with 1 Axes>"
      ]
     },
     "metadata": {},
     "output_type": "display_data"
    }
   ],
   "source": [
    "plt.scatter(X_train,y_train,color='red',marker='*',label='Actual data')\n",
    "plt.plot(X_test.YearsExperience,y_pred)\n",
    "plt.show()"
   ]
  },
  {
   "cell_type": "raw",
   "id": "61f1b67d",
   "metadata": {},
   "source": [
    "All the results are based on line equation\n",
    "y = mx +c\n",
    "\n",
    "where\n",
    "m = slop of the line\n",
    "x = input\n",
    "c = intercept"
   ]
  },
  {
   "cell_type": "code",
   "execution_count": 40,
   "id": "91713c71",
   "metadata": {},
   "outputs": [
    {
     "name": "stderr",
     "output_type": "stream",
     "text": [
      "C:\\Users\\abhis\\anaconda3\\lib\\site-packages\\sklearn\\base.py:450: UserWarning: X does not have valid feature names, but LinearRegression was fitted with feature names\n",
      "  warnings.warn(\n"
     ]
    },
    {
     "data": {
      "text/plain": [
       "array([25532.82219014])"
      ]
     },
     "execution_count": 40,
     "metadata": {},
     "output_type": "execute_result"
    }
   ],
   "source": [
    "#X value is 0\n",
    "model.predict([[0]])"
   ]
  },
  {
   "cell_type": "code",
   "execution_count": 41,
   "id": "f617c283",
   "metadata": {},
   "outputs": [
    {
     "data": {
      "text/plain": [
       "array([9437.8756708])"
      ]
     },
     "execution_count": 41,
     "metadata": {},
     "output_type": "execute_result"
    }
   ],
   "source": [
    "#y = mx +c\n",
    "#slope\n",
    "m = model.coef_\n",
    "m"
   ]
  },
  {
   "cell_type": "code",
   "execution_count": 42,
   "id": "be55d987",
   "metadata": {},
   "outputs": [
    {
     "data": {
      "text/plain": [
       "25532.822190136772"
      ]
     },
     "execution_count": 42,
     "metadata": {},
     "output_type": "execute_result"
    }
   ],
   "source": [
    "c = model.intercept_\n",
    "c"
   ]
  },
  {
   "cell_type": "code",
   "execution_count": 43,
   "id": "b55c9094",
   "metadata": {},
   "outputs": [
    {
     "data": {
      "text/plain": [
       "array([25532.82219014])"
      ]
     },
     "execution_count": 43,
     "metadata": {},
     "output_type": "execute_result"
    }
   ],
   "source": [
    "#now put the values in a formula\n",
    "m*0+c"
   ]
  },
  {
   "cell_type": "code",
   "execution_count": 44,
   "id": "6e5dd0ad",
   "metadata": {},
   "outputs": [
    {
     "data": {
      "text/plain": [
       "array([49127.51136715])"
      ]
     },
     "execution_count": 44,
     "metadata": {},
     "output_type": "execute_result"
    }
   ],
   "source": [
    "#for exp 2.5\n",
    "m*2.5 + c"
   ]
  },
  {
   "cell_type": "code",
   "execution_count": 45,
   "id": "2f74c4ac",
   "metadata": {},
   "outputs": [
    {
     "name": "stderr",
     "output_type": "stream",
     "text": [
      "C:\\Users\\abhis\\anaconda3\\lib\\site-packages\\sklearn\\base.py:450: UserWarning: X does not have valid feature names, but LinearRegression was fitted with feature names\n",
      "  warnings.warn(\n"
     ]
    },
    {
     "data": {
      "text/plain": [
       "array([49127.51136715])"
      ]
     },
     "execution_count": 45,
     "metadata": {},
     "output_type": "execute_result"
    }
   ],
   "source": [
    "model.predict([[2.5]])"
   ]
  },
  {
   "cell_type": "code",
   "execution_count": 46,
   "id": "39093b8d",
   "metadata": {},
   "outputs": [
    {
     "data": {
      "text/plain": [
       "2.4"
      ]
     },
     "execution_count": 46,
     "metadata": {},
     "output_type": "execute_result"
    }
   ],
   "source": [
    "3.6 - .4*3"
   ]
  },
  {
   "cell_type": "code",
   "execution_count": 47,
   "id": "4dc5b076",
   "metadata": {},
   "outputs": [
    {
     "data": {
      "text/plain": [
       "96.28232780438604"
      ]
     },
     "execution_count": 47,
     "metadata": {},
     "output_type": "execute_result"
    }
   ],
   "source": [
    "#calculate score of training data\n",
    "model.score(X_train,y_train)*100"
   ]
  },
  {
   "cell_type": "code",
   "execution_count": 48,
   "id": "5a2cc870",
   "metadata": {},
   "outputs": [
    {
     "data": {
      "text/plain": [
       "84.67600208801373"
      ]
     },
     "execution_count": 48,
     "metadata": {},
     "output_type": "execute_result"
    }
   ],
   "source": [
    "#calculate score of test data\n",
    "model.score(X_test[['YearsExperience']],y_test)*100"
   ]
  },
  {
   "cell_type": "code",
   "execution_count": 49,
   "id": "3358ab19",
   "metadata": {},
   "outputs": [
    {
     "data": {
      "text/plain": [
       "100.0"
      ]
     },
     "execution_count": 49,
     "metadata": {},
     "output_type": "execute_result"
    }
   ],
   "source": [
    "# score of actual test data and predicted is alwyas 100\n",
    "model.score(X_test[['YearsExperience']],y_pred)*100"
   ]
  },
  {
   "cell_type": "code",
   "execution_count": null,
   "id": "021f3ff5",
   "metadata": {},
   "outputs": [],
   "source": []
  }
 ],
 "metadata": {
  "kernelspec": {
   "display_name": "Python 3 (ipykernel)",
   "language": "python",
   "name": "python3"
  },
  "language_info": {
   "codemirror_mode": {
    "name": "ipython",
    "version": 3
   },
   "file_extension": ".py",
   "mimetype": "text/x-python",
   "name": "python",
   "nbconvert_exporter": "python",
   "pygments_lexer": "ipython3",
   "version": "3.9.13"
  }
 },
 "nbformat": 4,
 "nbformat_minor": 5
}
